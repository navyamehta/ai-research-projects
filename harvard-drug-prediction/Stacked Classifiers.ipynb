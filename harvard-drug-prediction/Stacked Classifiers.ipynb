{
 "cells": [
  {
   "cell_type": "markdown",
   "metadata": {},
   "source": [
    "Check out Kaggle at https://www.kaggle.com/c/lish-moa/overview, a challenge by the Laboratory of Innovation Science at Harvard. The objective is to use underlying drug characteristics to classify them into groups related to biological activity. "
   ]
  },
  {
   "cell_type": "code",
   "execution_count": 1,
   "metadata": {},
   "outputs": [],
   "source": [
    "import pandas as pd\n",
    "import numpy as np\n",
    "import scipy as sp\n",
    "import collections\n",
    "import gc\n",
    "import pickle\n",
    "import time\n",
    "import matplotlib.pyplot as plt\n",
    "import matplotlib.patches as mpatches\n",
    "import seaborn as sns\n",
    "import tensorflow as tf\n",
    "import tensorflow.keras as keras\n",
    "from tensorflow.keras.layers import Conv2D, MaxPooling2D, Dense, Lambda, Flatten, Conv2DTranspose\n",
    "from tensorflow.keras.layers import Dropout, GaussianNoise, Input, UpSampling2D, Concatenate\n",
    "from tensorflow.keras.models import Model, Sequential, load_model\n",
    "import sklearn.model_selection\n",
    "from copy import deepcopy\n",
    "import sklearn.metrics\n",
    "from xgboost import XGBClassifier\n",
    "from sklearn.ensemble import RandomForestClassifier\n",
    "from sklearn.model_selection import RandomizedSearchCV"
   ]
  },
  {
   "cell_type": "markdown",
   "metadata": {},
   "source": [
    "<h2> STEP 1 - Data Preprocessing"
   ]
  },
  {
   "cell_type": "code",
   "execution_count": 2,
   "metadata": {},
   "outputs": [
    {
     "data": {
      "text/plain": [
       "((23814, 876), (23814, 207), (23814, 403))"
      ]
     },
     "execution_count": 2,
     "metadata": {},
     "output_type": "execute_result"
    }
   ],
   "source": [
    "X = pd.read_csv(\"./data/train_features.csv\")\n",
    "Y = pd.read_csv(\"./data/train_targets_scored.csv\")\n",
    "supp = pd.read_csv(\"./data/train_targets_nonscored.csv\")\n",
    "X.shape, Y.shape, supp.shape"
   ]
  },
  {
   "cell_type": "code",
   "execution_count": 3,
   "metadata": {},
   "outputs": [],
   "source": [
    "def get_bad_cols(thresh=0.75):\n",
    "    crr = X[X.columns.values[4:]].corr()\n",
    "    tbl = crr.stack().reset_index()\n",
    "    tbl.drop(tbl.loc[tbl.level_0==tbl.level_1].index, inplace=True)\n",
    "    badcols = set()\n",
    "    badvals = tbl.loc[tbl[0].apply(np.abs)>=thresh]\n",
    "    while len(badvals)>0:\n",
    "        vals = badvals[\"level_0\"].append(badvals[\"level_1\"]).value_counts()\n",
    "        badcols.add(vals.index.values[0])\n",
    "        badvals = badvals.loc[(badvals[\"level_0\"]!=vals.index.values[0])&\n",
    "                              (badvals[\"level_1\"]!=vals.index.values[0])]\n",
    "    newtbl = tbl.loc[(tbl.level_0.isin(list(badcols))==False)&(tbl.level_1.isin(list(badcols))==False)]\n",
    "    return badcols, tbl, newtbl\n",
    "badcols, tbl, newtbl = get_bad_cols(0.75)\n",
    "X.drop(columns=list(badcols), inplace=True)"
   ]
  },
  {
   "cell_type": "code",
   "execution_count": 4,
   "metadata": {},
   "outputs": [
    {
     "data": {
      "image/png": "[encoded data removed]",
      "text/plain": [
       "<Figure size 1080x288 with 2 Axes>"
      ]
     },
     "metadata": {
      "needs_background": "light"
     },
     "output_type": "display_data"
    }
   ],
   "source": [
    "plt.figure(figsize=(15,4))\n",
    "plt.subplot(1,2,1)\n",
    "plt.hist(tbl[0], bins=30, alpha=0.6, label=\"Original Correlations\", density=True)\n",
    "plt.hist(newtbl[0], bins=30, alpha=0.6, label=\"Reduced Correlations\", density=True)\n",
    "plt.legend(loc=\"best\")\n",
    "plt.xlabel(\"Pearson's Correlation Coefficient\")\n",
    "plt.ylabel(\"Density\")\n",
    "plt.title(\"Analyzing Inter-Feature Correlations\")\n",
    "plt.subplot(1,2,2)\n",
    "X[X.columns.values[4:]].apply(lambda s: s.max()-s.min()).plot(kind=\"hist\", bins=20, alpha=0.6, density=True)\n",
    "plt.xlabel(\"Range for Feature Values\")\n",
    "plt.ylabel(\"Density\")\n",
    "plt.title(\"Analyzing Need for Feature Scaling\")\n",
    "plt.show()"
   ]
  },
  {
   "cell_type": "code",
   "execution_count": 5,
   "metadata": {},
   "outputs": [],
   "source": [
    "newX = np.zeros((X.shape[0], X.shape[1]+3))\n",
    "newX[X[\"cp_type\"]==\"trt_cp\",0] = 1\n",
    "newX[X[\"cp_type\"]==\"ctl_vehicle\",1] = 1\n",
    "newX[X[\"cp_time\"]==48,2] = 1\n",
    "newX[X[\"cp_time\"]==72,3] = 1\n",
    "newX[X[\"cp_time\"]==24,4] = 1\n",
    "newX[X[\"cp_dose\"]==\"D1\",5] = 1\n",
    "newX[X[\"cp_dose\"]==\"D2\",6] = 1\n",
    "newX[:,7:] = X[X.columns.values[4:]].values\n",
    "Y.drop(columns=[\"sig_id\"], inplace=True)"
   ]
  },
  {
   "cell_type": "markdown",
   "metadata": {},
   "source": [
    "<h2> STEP 2 - Stacked Classifiers"
   ]
  },
  {
   "cell_type": "code",
   "execution_count": 7,
   "metadata": {},
   "outputs": [],
   "source": [
    "def get_rf(dataX, dataY):\n",
    "    params = {'max_depth':[5,7,9], 'min_samples_split':[2,3], 'criterion':['gini','entropy'], \n",
    "              'max_samples':[None,0.85,0.7]}\n",
    "    mdl = RandomForestClassifier(class_weight=\"balanced\", random_state=1, n_estimators=40)\n",
    "    rfmdl = RandomizedSearchCV(mdl, params, scoring=[\"neg_log_loss\",\"neg_brier_score\"], refit=\"neg_log_loss\", \n",
    "                               cv=4, n_iter=8, return_train_score=True, verbose=999999, random_state=1)\n",
    "    rfmdl.fit(dataX, dataY)\n",
    "    return rfmdl"
   ]
  },
  {
   "cell_type": "code",
   "execution_count": 42,
   "metadata": {},
   "outputs": [],
   "source": [
    "nomdl = Y.apply(np.sum)\n",
    "ymdl = nomdl[nomdl>10].index.values\n",
    "nomdl = nomdl[nomdl<=10].index.values\n",
    "for char in ymdl:\n",
    "    mdl = get_rf(newX[:15000], Y[char].values[:15000])\n",
    "    pickle.dump(mdl, open(\"./RF_\"+char+\".pkl\",\"wb\"))"
   ]
  },
  {
   "cell_type": "code",
   "execution_count": null,
   "metadata": {},
   "outputs": [],
   "source": []
  }
 ],
 "metadata": {
  "kernelspec": {
   "display_name": "Python 3",
   "language": "python",
   "name": "python3"
  },
  "language_info": {
   "codemirror_mode": {
    "name": "ipython",
    "version": 3
   },
   "file_extension": ".py",
   "mimetype": "text/x-python",
   "name": "python",
   "nbconvert_exporter": "python",
   "pygments_lexer": "ipython3",
   "version": "3.6.8"
  }
 },
 "nbformat": 4,
 "nbformat_minor": 2
}

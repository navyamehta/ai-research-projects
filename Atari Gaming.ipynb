{
 "cells": [
  {
   "cell_type": "markdown",
   "metadata": {},
   "source": [
    "In this notebook, we attempt to develop Deep Q-Networks for agents to learn Atari games, including the famous Breakout. OpenAI Gym's environment rendering provides individual frames which are preprocessed and fed to a state-action network to learn optimal behaviour. Epsilon-Greedy exploration is used where epsilon is gradually adjusted over time. We attempt to reproduce DeepMind's 2013 paper in terms of neural network architecture to teach the agent. In accordance with the paper, we repeat each chosen action for k frames (k=4), and hence each action decision involves accessing four consecutive frames in a convolutional net. Grayscaling and downsampling preprocessing is performed."
   ]
  },
  {
   "cell_type": "code",
   "execution_count": 1,
   "metadata": {},
   "outputs": [],
   "source": [
    "import gym\n",
    "import pandas as pd\n",
    "import numpy as np\n",
    "import scipy as sp\n",
    "import tensorflow as tf\n",
    "import tensorflow.keras as keras\n",
    "import collections\n",
    "import itertools\n",
    "from tensorflow.keras.layers import Conv2D, MaxPooling2D, Dense, Lambda, Flatten, Input, Dropout\n",
    "from tensorflow.keras.models import Model, Sequential, load_model\n",
    "from PIL import Image\n",
    "import matplotlib.pyplot as plt\n",
    "import matplotlib.patches as mpatches\n",
    "import seaborn as sns\n",
    "from copy import deepcopy\n",
    "import time\n",
    "import cv2"
   ]
  },
  {
   "cell_type": "markdown",
   "metadata": {},
   "source": [
    "<h2> SECTION 1: Preprocessing and Model Architecture"
   ]
  },
  {
   "cell_type": "code",
   "execution_count": 2,
   "metadata": {},
   "outputs": [
    {
     "data": {
      "image/png": "[encoded data removed]",
      "text/plain": [
       "<Figure size 1080x288 with 4 Axes>"
      ]
     },
     "metadata": {
      "needs_background": "light"
     },
     "output_type": "display_data"
    }
   ],
   "source": [
    "def preprocessing(framelist):\n",
    "    frames = np.zeros((np.int(framelist[0].shape[0]/2), np.int(framelist[0].shape[1]/2), 4), dtype=np.float64)\n",
    "    for i in range(4):\n",
    "        frames[:,:,i] = np.mean(framelist[i], axis=2)[::2,::2]\n",
    "    return frames\n",
    "#Example State Fed to Network\n",
    "env = gym.make(\"BreakoutDeterministic-v4\")\n",
    "frame = env.reset()\n",
    "framelist = collections.deque()\n",
    "actions = [1,2,3,2]\n",
    "for i in range(4):\n",
    "    frame, reward, is_done, _ = env.step(actions[i])\n",
    "    framelist.append(frame)\n",
    "frames = preprocessing(framelist)\n",
    "plt.figure(figsize=(15,4))\n",
    "plt.suptitle(\"4-Frame Pixel State for Atari\")\n",
    "for i in range(4):\n",
    "    plt.subplot(1,4,i+1)\n",
    "    plt.imshow(frames[:,:,i], cmap=\"gray\")\n",
    "plt.show()"
   ]
  },
  {
   "cell_type": "code",
   "execution_count": 3,
   "metadata": {},
   "outputs": [
    {
     "name": "stdout",
     "output_type": "stream",
     "text": [
      "Model: \"model\"\n",
      "__________________________________________________________________________________________________\n",
      "Layer (type)                    Output Shape         Param #     Connected to                     \n",
      "==================================================================================================\n",
      "input_2 (InputLayer)            [(None, 105, 80, 4)] 0                                            \n",
      "__________________________________________________________________________________________________\n",
      "conv2d (Conv2D)                 (None, 25, 19, 16)   4112        input_2[0][0]                    \n",
      "__________________________________________________________________________________________________\n",
      "leaky_re_lu (LeakyReLU)         (None, 25, 19, 16)   0           conv2d[0][0]                     \n",
      "__________________________________________________________________________________________________\n",
      "conv2d_1 (Conv2D)               (None, 11, 8, 32)    8224        leaky_re_lu[0][0]                \n",
      "__________________________________________________________________________________________________\n",
      "flatten (Flatten)               (None, 2816)         0           conv2d_1[0][0]                   \n",
      "__________________________________________________________________________________________________\n",
      "dense (Dense)                   (None, 256)          721152      flatten[0][0]                    \n",
      "__________________________________________________________________________________________________\n",
      "dense_1 (Dense)                 (None, 4)            1028        dense[0][0]                      \n",
      "__________________________________________________________________________________________________\n",
      "input_1 (InputLayer)            [(None, 4)]          0                                            \n",
      "__________________________________________________________________________________________________\n",
      "lambda (Lambda)                 (None, 4)            0           dense_1[0][0]                    \n",
      "                                                                 input_1[0][0]                    \n",
      "==================================================================================================\n",
      "Total params: 734,516\n",
      "Trainable params: 734,516\n",
      "Non-trainable params: 0\n",
      "__________________________________________________________________________________________________\n"
     ]
    }
   ],
   "source": [
    "def build_model(env, imgheight, imgwidth):\n",
    "    tf.keras.backend.clear_session()\n",
    "    mask = Input((len(env.unwrapped.get_action_meanings()),))\n",
    "    frameinp = Input((imgheight, imgwidth, 4))\n",
    "    conv1 = Conv2D(filters=16, kernel_size=(8,8), strides=4, padding=\"valid\")(frameinp)\n",
    "    activ1 = tf.keras.layers.LeakyReLU(alpha=0.2)(conv1)\n",
    "    conv2 = Conv2D(filters=32, kernel_size=(4,4), strides=2, padding=\"valid\", activation=\"relu\")(activ1)\n",
    "    dense = Dense(units=256, activation=\"relu\")(Flatten()(conv2))\n",
    "    rawoutput = Dense(units=len(env.unwrapped.get_action_meanings()), activation=None)(dense)\n",
    "    finaloutput = Lambda(lambda tensors: tf.math.multiply(tensors[0], tensors[1]))([rawoutput, mask])\n",
    "    mdl = Model(inputs=[mask, frameinp], outputs=finaloutput)\n",
    "    mdl.compile(loss='mean_squared_error', optimizer=tf.keras.optimizers.Adam(learning_rate=5e-4))\n",
    "    return mdl\n",
    "build_model(env, 105, 80).summary()"
   ]
  },
  {
   "cell_type": "markdown",
   "metadata": {},
   "source": [
    "<h2>SECTION 2: Experience Replay</h2>"
   ]
  },
  {
   "cell_type": "code",
   "execution_count": 4,
   "metadata": {},
   "outputs": [],
   "source": [
    "class ExperienceReplay():\n",
    "    def __init__(self, buffersize, batchsize):\n",
    "        self.buffersize, self.batchsize = buffersize, batchsize\n",
    "        self.sars = collections.deque()\n",
    "        self.cursize = 0\n",
    "    def add(self, state1, action, reward, state2):\n",
    "        while self.cursize>=self.buffersize:\n",
    "            self.sars.popleft()\n",
    "            self.cursize-=1\n",
    "        self.sars.append((state1, action, reward, state2))\n",
    "        self.cursize+=1\n",
    "    def sample(self, env):\n",
    "        if self.cursize==0: return\n",
    "        replacer = True if self.cursize<self.batchsize else False\n",
    "        indices = np.random.choice(self.cursize, self.batchsize, replace=replacer)\n",
    "        state1 = np.zeros((self.batchsize, self.sars[0][0].shape[0], \n",
    "                           self.sars[0][0].shape[1], self.sars[0][0].shape[2]))\n",
    "        reward = np.zeros(self.batchsize)\n",
    "        action = np.zeros((self.batchsize, len(env.unwrapped.get_action_meanings())))\n",
    "        state2 = np.zeros((self.batchsize, self.sars[0][0].shape[0], \n",
    "                           self.sars[0][0].shape[1], self.sars[0][0].shape[2]))\n",
    "        for i in range(len(indices)):\n",
    "            data = self.sars[indices[i]]\n",
    "            state1[i], reward[i], state2[i] = data[0], data[2], data[3]\n",
    "            action[i,data[1]] = 1\n",
    "        return state1, action, reward, state2   "
   ]
  },
  {
   "cell_type": "code",
   "execution_count": null,
   "metadata": {},
   "outputs": [],
   "source": []
  },
  {
   "cell_type": "markdown",
   "metadata": {},
   "source": [
    "<h2>SECTION 3: Episodic Training </h2>"
   ]
  },
  {
   "cell_type": "code",
   "execution_count": 5,
   "metadata": {},
   "outputs": [],
   "source": [
    "def epsilon_greedy_action(model, state, env, epsilon):\n",
    "    prob, action = np.random.uniform(), None\n",
    "    if prob<(1-epsilon):\n",
    "        actionvalues = model.predict([np.ones((1,len(env.unwrapped.get_action_meanings()))), np.array([state])])[0]\n",
    "        maxval = np.max(actionvalues)\n",
    "        bestactions = np.where(actionvalues==np.max(actionvalues))[0]\n",
    "        return np.random.choice(bestactions)\n",
    "    else:\n",
    "        return np.random.choice(len(env.unwrapped.get_action_meanings()))"
   ]
  },
  {
   "cell_type": "code",
   "execution_count": 6,
   "metadata": {},
   "outputs": [],
   "source": [
    "def dq_model_trainer(exprep, model, env):\n",
    "    state1, action, reward, state2 = exprep.sample(env)\n",
    "    futactions = model.predict([np.ones((state2.shape[0], len(env.unwrapped.get_action_meanings()))), state2])\n",
    "    futactions = np.max(futactions, axis=1)\n",
    "    target = (0.99*futactions+reward).reshape(-1,1)*action\n",
    "    model.fit([action, state1], target, verbose=0)"
   ]
  },
  {
   "cell_type": "code",
   "execution_count": 7,
   "metadata": {},
   "outputs": [],
   "source": [
    "def one_episode(model, env, epsilon, exprep):\n",
    "    frame = env.reset()\n",
    "    framelist = collections.deque([deepcopy(frame) for _ in range(4)])\n",
    "    rewardlist = collections.deque([0,0,0,0])\n",
    "    state1 = preprocessing(framelist)\n",
    "    while True:\n",
    "        action1 = epsilon_greedy_action(model, state1, env, epsilon)\n",
    "        frame, reward, is_done, ot = env.step(action1)\n",
    "        framelist.popleft()\n",
    "        framelist.append(frame)\n",
    "        rewardlist.popleft()\n",
    "        rewardlist.append(reward)\n",
    "        if is_done:\n",
    "            dq_model_trainer(exprep, model, env)\n",
    "            return\n",
    "        state2 = preprocessing(framelist)\n",
    "        exprep.add(state1, action1, sum(rewardlist), state2)\n",
    "        state1 = deepcopy(state2)\n",
    "        if exprep.cursize>(2*exprep.batchsize):\n",
    "            dq_model_trainer(exprep, model, env)  "
   ]
  },
  {
   "cell_type": "code",
   "execution_count": 8,
   "metadata": {},
   "outputs": [],
   "source": [
    "def epsilon_scheduler(numepisodes, curep):\n",
    "    #According to DeepMind's 2013 paper, we reduce epsilon from 1.0 to 0.1 over time, and then constant\n",
    "    #Let us decay linearly to 0.1 within a third of numepisodes\n",
    "    if numepisodes<=3:\n",
    "        return 1.0 if curep==1 else 0.1\n",
    "    slope = -0.9/(numepisodes/3-1)\n",
    "    intercept = 1-slope\n",
    "    return slope*curep+intercept if curep<=np.int(numepisodes/3) else 0.1"
   ]
  },
  {
   "cell_type": "code",
   "execution_count": 9,
   "metadata": {},
   "outputs": [],
   "source": [
    "def atari_trainer(gamename, numepisodes):\n",
    "    env = gym.make(gamename+\"Deterministic-v4\") \n",
    "    model = build_model(env, 105, 80)\n",
    "    start = time.time()\n",
    "    exprep = ExperienceReplay(2000, 32)\n",
    "    for i in range(1,numepisodes+1):\n",
    "        one_episode(model, env, epsilon_scheduler(numepisodes,i), exprep)\n",
    "        print(time.time()-start)\n",
    "        if (i%np.int(numepisodes/10))==0:\n",
    "            print(\"Iteration Update at Episode No. \"+str(i)+\"(Time=\"+str(time.time()-start)+\")\")\n",
    "    return model"
   ]
  },
  {
   "cell_type": "code",
   "execution_count": null,
   "metadata": {},
   "outputs": [],
   "source": []
  },
  {
   "cell_type": "markdown",
   "metadata": {},
   "source": [
    "<h2> SECTION 4: Learning Visualization </h2>"
   ]
  },
  {
   "cell_type": "code",
   "execution_count": 33,
   "metadata": {},
   "outputs": [],
   "source": [
    "def learning_visual(model, env, epsilon, filename):\n",
    "    frame = env.reset()\n",
    "    fourcc = cv2.VideoWriter_fourcc('m', 'p', '4', 'v')\n",
    "    video = cv2.VideoWriter()\n",
    "    success = video.open(filename+\".mov\", fourcc, 30, (160,210), True)\n",
    "    video.write(frame.astype(\"uint8\"))\n",
    "    framelist = collections.deque([deepcopy(frame) for _ in range(4)])\n",
    "    is_done = False\n",
    "    while not is_done:\n",
    "        state1 = preprocessing(framelist)\n",
    "        action1 = epsilon_greedy_action(model, state1, env, epsilon)\n",
    "        frame, reward, is_done, ot = env.step(action1)\n",
    "        framelist.popleft()\n",
    "        framelist.append(frame)\n",
    "        video.write(frame.astype(\"uint8\"))\n",
    "    video.release()"
   ]
  },
  {
   "cell_type": "code",
   "execution_count": null,
   "metadata": {},
   "outputs": [],
   "source": []
  }
 ],
 "metadata": {
  "kernelspec": {
   "display_name": "Python 3",
   "language": "python",
   "name": "python3"
  },
  "language_info": {
   "codemirror_mode": {
    "name": "ipython",
    "version": 3
   },
   "file_extension": ".py",
   "mimetype": "text/x-python",
   "name": "python",
   "nbconvert_exporter": "python",
   "pygments_lexer": "ipython3",
   "version": "3.6.8"
  }
 },
 "nbformat": 4,
 "nbformat_minor": 2
}

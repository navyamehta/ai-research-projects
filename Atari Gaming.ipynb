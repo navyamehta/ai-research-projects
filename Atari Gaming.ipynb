{
 "cells": [
  {
   "cell_type": "markdown",
   "metadata": {},
   "source": [
    "In this notebook, we attempt to develop Deep Q-Networks for agents to learn Atari games, including the famous Breakout. OpenAI Gym's environment rendering provides individual frames which are preprocessed and fed to a state-action network to learn optimal behaviour. Epsilon-Greedy exploration is used where epsilon is gradually adjusted over time. We attempt to reproduce DeepMind's 2013 paper in terms of neural network architecture to teach the agent. In accordance with the paper, we repeat each chosen action for k frames (k=4), and hence each action decision involves accessing four consecutive frames in a convolutional net. Grayscaling and downsampling preprocessing is performed."
   ]
  },
  {
   "cell_type": "code",
   "execution_count": 41,
   "metadata": {},
   "outputs": [],
   "source": [
    "import gym\n",
    "import pandas as pd\n",
    "import numpy as np\n",
    "import scipy as sp\n",
    "import tensorflow as tf\n",
    "import tensorflow.keras as keras\n",
    "import collections\n",
    "import itertools\n",
    "from tensorflow.keras.layers import Conv2D, MaxPooling2D, Dense, Lambda, Flatten, Input, Dropout\n",
    "from tensorflow.keras.models import Model, Sequential, load_model\n",
    "from PIL import Image\n",
    "import matplotlib.pyplot as plt\n",
    "import matplotlib.patches as mpatches\n",
    "import seaborn as sns"
   ]
  },
  {
   "cell_type": "markdown",
   "metadata": {},
   "source": [
    "<h2> SECTION 1: Preprocessing and Model Architecture"
   ]
  },
  {
   "cell_type": "code",
   "execution_count": 29,
   "metadata": {},
   "outputs": [
    {
     "data": {
      "image/png": "[encoded data removed]",
      "text/plain": [
       "<Figure size 1080x288 with 4 Axes>"
      ]
     },
     "metadata": {
      "needs_background": "light"
     },
     "output_type": "display_data"
    }
   ],
   "source": [
    "def preprocessing(framelist):\n",
    "    frames = np.zeros((np.int(framelist[0].shape[0]/2), np.int(framelist[0].shape[1]/2), 4), dtype=np.float64)\n",
    "    for i in range(4):\n",
    "        frames[:,:,i] = np.mean(framelist[i], axis=2)[::2,::2]\n",
    "    return frames\n",
    "#Example State Fed to Network\n",
    "env = gym.make(\"BreakoutNoFrameskip-v4\")\n",
    "frame = env.reset()\n",
    "framelist = collections.deque()\n",
    "actions = [1,2,3,2]\n",
    "for i in range(4):\n",
    "    frame, reward, is_done, _ = env.step(actions[i])\n",
    "    framelist.append(frame)\n",
    "frames = preprocessing(framelist)\n",
    "plt.figure(figsize=(15,4))\n",
    "plt.suptitle(\"4-Frame Pixel State for Atari\")\n",
    "for i in range(4):\n",
    "    plt.subplot(1,4,i+1)\n",
    "    plt.imshow(frames[:,:,i], cmap=\"gray\")\n",
    "plt.show()"
   ]
  },
  {
   "cell_type": "code",
   "execution_count": 42,
   "metadata": {},
   "outputs": [
    {
     "name": "stdout",
     "output_type": "stream",
     "text": [
      "Model: \"model\"\n",
      "__________________________________________________________________________________________________\n",
      "Layer (type)                    Output Shape         Param #     Connected to                     \n",
      "==================================================================================================\n",
      "input_2 (InputLayer)            [(None, 110, 84, 4)] 0                                            \n",
      "__________________________________________________________________________________________________\n",
      "conv2d (Conv2D)                 (None, 26, 20, 16)   4112        input_2[0][0]                    \n",
      "__________________________________________________________________________________________________\n",
      "leaky_re_lu (LeakyReLU)         (None, 26, 20, 16)   0           conv2d[0][0]                     \n",
      "__________________________________________________________________________________________________\n",
      "conv2d_1 (Conv2D)               (None, 12, 9, 32)    8224        leaky_re_lu[0][0]                \n",
      "__________________________________________________________________________________________________\n",
      "flatten (Flatten)               (None, 3456)         0           conv2d_1[0][0]                   \n",
      "__________________________________________________________________________________________________\n",
      "dropout (Dropout)               (None, 3456)         0           flatten[0][0]                    \n",
      "__________________________________________________________________________________________________\n",
      "dense (Dense)                   (None, 256)          884992      dropout[0][0]                    \n",
      "__________________________________________________________________________________________________\n",
      "dense_1 (Dense)                 (None, 4)            1028        dense[0][0]                      \n",
      "__________________________________________________________________________________________________\n",
      "input_1 (InputLayer)            [(None, 4)]          0                                            \n",
      "__________________________________________________________________________________________________\n",
      "lambda (Lambda)                 (None, 4)            0           dense_1[0][0]                    \n",
      "                                                                 input_1[0][0]                    \n",
      "==================================================================================================\n",
      "Total params: 898,356\n",
      "Trainable params: 898,356\n",
      "Non-trainable params: 0\n",
      "__________________________________________________________________________________________________\n"
     ]
    }
   ],
   "source": [
    "def build_model(env, imgheight, imgwidth):\n",
    "    tf.keras.backend.clear_session()\n",
    "    mask = Input((len(env.unwrapped.get_action_meanings()),))\n",
    "    frameinp = Input((imgheight, imgwidth, 4))\n",
    "    conv1 = Conv2D(filters=16, kernel_size=(8,8), strides=4, padding=\"valid\")(frameinp)\n",
    "    activ1 = tf.keras.layers.LeakyReLU(alpha=0.2)(conv1)\n",
    "    conv2 = Conv2D(filters=32, kernel_size=(4,4), strides=2, padding=\"valid\", activation=\"relu\")(activ1)\n",
    "    preproc = Dropout(0.05)(Flatten()(conv2))\n",
    "    dense = Dense(units=256, activation=\"relu\")(preproc)\n",
    "    rawoutput = Dense(units=len(env.unwrapped.get_action_meanings()), activation=None)(dense)\n",
    "    finaloutput = Lambda(lambda tensors: tf.math.multiply(tensors[0], tensors[1]))([rawoutput, mask])\n",
    "    mdl = Model(inputs=[mask, frameinp], outputs=finaloutput)\n",
    "    mdl.compile(loss='mean_squared_error', optimizer=tf.keras.optimizers.Adam(learning_rate=5e-3))\n",
    "    return mdl\n",
    "build_model(env, 110, 84).summary()"
   ]
  },
  {
   "cell_type": "markdown",
   "metadata": {},
   "source": [
    "<h2>SECTION 2: Experience Replay</h2>"
   ]
  },
  {
   "cell_type": "code",
   "execution_count": 25,
   "metadata": {},
   "outputs": [
    {
     "data": {
      "text/plain": [
       "<matplotlib.image.AxesImage at 0x14b743908>"
      ]
     },
     "execution_count": 25,
     "metadata": {},
     "output_type": "execute_result"
    },
    {
     "data": {
      "image/png": "[encoded data removed]",
      "text/plain": [
       "<Figure size 432x288 with 1 Axes>"
      ]
     },
     "metadata": {
      "needs_background": "light"
     },
     "output_type": "display_data"
    }
   ],
   "source": [
    "plt.imshow(preprocessing(framelist)[:,:,0], cmap=\"gray\")"
   ]
  },
  {
   "cell_type": "code",
   "execution_count": 39,
   "metadata": {},
   "outputs": [
    {
     "data": {
      "text/plain": [
       "<tf.Tensor: shape=(3,), dtype=int32, numpy=array([ 1, 15, 24], dtype=int32)>"
      ]
     },
     "execution_count": 39,
     "metadata": {},
     "output_type": "execute_result"
    }
   ],
   "source": [
    "tf.math.multiply(tf.Variable([1,3,4]), tf.Variable([1,5,6]))"
   ]
  },
  {
   "cell_type": "code",
   "execution_count": null,
   "metadata": {},
   "outputs": [],
   "source": []
  }
 ],
 "metadata": {
  "kernelspec": {
   "display_name": "Python 3",
   "language": "python",
   "name": "python3"
  },
  "language_info": {
   "codemirror_mode": {
    "name": "ipython",
    "version": 3
   },
   "file_extension": ".py",
   "mimetype": "text/x-python",
   "name": "python",
   "nbconvert_exporter": "python",
   "pygments_lexer": "ipython3",
   "version": "3.6.8"
  }
 },
 "nbformat": 4,
 "nbformat_minor": 2
}

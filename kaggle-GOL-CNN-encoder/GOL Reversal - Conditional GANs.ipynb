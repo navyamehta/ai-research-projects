{
 "cells": [
  {
   "cell_type": "markdown",
   "metadata": {},
   "source": [
    "Check out Kaggle at https://www.kaggle.com/c/conways-reverse-game-of-life-2020. The objective is to reverse Conway's Game of Life Board (25x25 cells) to learn its position $\\delta$ steps ago ($1<=\\delta<=5$). In this notebook, we adapt \"Image-to-Image Translation with Conditional Adverserial Networks\" (Isola et al., 2017) by training a discriminator and generator conditioned on input images."
   ]
  },
  {
   "cell_type": "code",
   "execution_count": 1,
   "metadata": {},
   "outputs": [],
   "source": [
    "import pandas as pd\n",
    "import numpy as np\n",
    "import scipy as sp\n",
    "import collections\n",
    "import math\n",
    "import gc\n",
    "import pickle\n",
    "import time\n",
    "import matplotlib.pyplot as plt\n",
    "import matplotlib.patches as mpatches\n",
    "import seaborn as sns\n",
    "import tensorflow as tf\n",
    "import tensorflow.keras as keras\n",
    "from tensorflow.keras.layers import Conv2D, MaxPooling2D, Dense, Lambda, Flatten, Conv2DTranspose\n",
    "from tensorflow.keras.layers import Dropout, GaussianNoise, Input, UpSampling2D, Concatenate, BatchNormalization\n",
    "from tensorflow.keras.models import Model, Sequential, load_model\n",
    "import sklearn.model_selection\n",
    "from copy import deepcopy\n",
    "import sklearn.metrics"
   ]
  },
  {
   "cell_type": "markdown",
   "metadata": {},
   "source": [
    "<h2>Data Preprocessing</h2>"
   ]
  },
  {
   "cell_type": "code",
   "execution_count": 2,
   "metadata": {},
   "outputs": [
    {
     "name": "stdout",
     "output_type": "stream",
     "text": [
      "Preprocessing Exited in 5.520716905593872 seconds\n"
     ]
    },
    {
     "data": {
      "text/plain": [
       "((50000, 1252), (50000, 25, 25, 1), (50000, 5), (50000, 25, 25, 1))"
      ]
     },
     "execution_count": 2,
     "metadata": {},
     "output_type": "execute_result"
    }
   ],
   "source": [
    "start = time.time()\n",
    "data = pd.read_csv(\"./train.csv\")\n",
    "X1 = data[data.columns[np.vectorize(lambda s: \"stop\" in s)(data.columns.values)]]\n",
    "X1 = X1.values.reshape(data.shape[0],25,25,1)\n",
    "delta = data[\"delta\"].values\n",
    "X2 = np.zeros((data.shape[0],5))\n",
    "for i in range(data.shape[0]):\n",
    "    X2[i,delta[i]-1] = 1\n",
    "Y = data[data.columns[np.vectorize(lambda s: \"start\" in s)(data.columns.values)]]\n",
    "Y = Y.values.reshape(data.shape[0],25,25,1)\n",
    "print(\"Preprocessing Exited in \"+str(time.time()-start)+\" seconds\")\n",
    "data.shape, X1.shape, X2.shape, Y.shape"
   ]
  },
  {
   "cell_type": "markdown",
   "metadata": {},
   "source": [
    "<h2> SECTION 1: Building the Discriminator and Generator"
   ]
  },
  {
   "cell_type": "code",
   "execution_count": 3,
   "metadata": {},
   "outputs": [],
   "source": [
    "def build_discriminator(lr=2e-3):\n",
    "    tf.keras.backend.clear_session()\n",
    "    curimg, befimg = Input((25,25,1)), Input((25,25,1))\n",
    "    imginp = Concatenate()([curimg, befimg])\n",
    "    mask = Input((5,))\n",
    "    #Increasing Filters to Capture Relationship\n",
    "    conv1 = Conv2D(filters=32, kernel_size=(7,7), strides=(1,1), padding=\"same\", activation=\"relu\")(imginp)\n",
    "    max1 = MaxPooling2D(pool_size=(2,2), strides=(2,2), padding=\"valid\")(conv1)\n",
    "    conv2 = Conv2D(filters=64, kernel_size=(7,7), strides=(1,1), padding=\"same\", activation=\"relu\")(max1)\n",
    "    max2 = MaxPooling2D(pool_size=(2,2), strides=(2,2), padding=\"valid\")(conv2)\n",
    "    #BatchNormalization for Train-Time Stability\n",
    "    max2 = BatchNormalization()(max2)\n",
    "    #Reducing Filters to 5-Channel Layer\n",
    "    conv3 = Conv2D(filters=32, kernel_size=(7,7), strides=(1,1), padding=\"same\", activation=\"relu\")(max2)\n",
    "    max3 = MaxPooling2D(pool_size=(2,2), strides=(2,2), padding=\"valid\")(conv3)\n",
    "    fconv = Conv2D(filters=5, kernel_size=(7,7), strides=(1,1), padding=\"same\", activation=\"relu\")(max3)\n",
    "    #Discriminate on Relevant Delta\n",
    "    final = Dense(5, activation=\"sigmoid\")(Flatten()(fconv))\n",
    "    final = tf.math.multiply(final,mask)\n",
    "    dmodel = Model(inputs=[curimg, befimg, mask], outputs=final, name=\"Discriminator\")\n",
    "    dmodel.compile(loss=\"mean_squared_error\", optimizer=tf.keras.optimizers.Adam(lr=lr), loss_weights=[0.5])\n",
    "    return dmodel"
   ]
  },
  {
   "cell_type": "code",
   "execution_count": 4,
   "metadata": {},
   "outputs": [],
   "source": [
    "def build_generator(lr=2e-3):\n",
    "    tf.keras.backend.clear_session()\n",
    "    imginp = Input((25,25,1))\n",
    "    #Custom Training Op Needed Since deltainp is a gather\n",
    "    deltainp = Input((2,), dtype=tf.int32)\n",
    "    #Original N-Step Convolver Design\n",
    "    conv1 = Conv2D(filters=32, kernel_size=(7,7), strides=(1,1), padding=\"same\", activation=\"relu\")(imginp)\n",
    "    max1 = MaxPooling2D(pool_size=(2,2), strides=(1,1), padding=\"same\")(conv1)\n",
    "    conv2 = Conv2D(filters=64, kernel_size=(7,7), strides=(1,1), padding=\"same\", activation=\"relu\")(max1)\n",
    "    max2 = MaxPooling2D(pool_size=(2,2), strides=(1,1), padding=\"same\")(conv2)\n",
    "    conv3 = Conv2D(filters=48, kernel_size=(7,7), strides=(1,1), padding=\"same\", activation=\"relu\")(max2)\n",
    "    max3 = MaxPooling2D(pool_size=(2,2), strides=(1,1), padding=\"same\")(conv3)\n",
    "    final = Conv2D(filters=5, kernel_size=(7,7), strides=(1,1), padding=\"same\", activation=\"sigmoid\")(max3)\n",
    "    #Select Appropriate Board\n",
    "    final = tf.transpose(final, perm=[0,3,1,2])\n",
    "    final = tf.gather_nd(final, deltainp)\n",
    "    final = tf.reshape(final, shape=(-1,25,25,1))\n",
    "    gmodel = Model(inputs=[imginp,deltainp], outputs=final, name=\"Generator\")\n",
    "    return gmodel"
   ]
  },
  {
   "cell_type": "markdown",
   "metadata": {},
   "source": [
    "<h2>SECTION 2: Completing the cGAN Model"
   ]
  },
  {
   "cell_type": "code",
   "execution_count": 6,
   "metadata": {},
   "outputs": [
    {
     "name": "stdout",
     "output_type": "stream",
     "text": [
      "Model: \"cGAN\"\n",
      "__________________________________________________________________________________________________\n",
      "Layer (type)                    Output Shape         Param #     Connected to                     \n",
      "==================================================================================================\n",
      "input_1 (InputLayer)            [(None, 25, 25, 1)]  0                                            \n",
      "__________________________________________________________________________________________________\n",
      "input_2 (InputLayer)            [(None, 2)]          0                                            \n",
      "__________________________________________________________________________________________________\n",
      "Generator (Model)               (None, 25, 25, 1)    264357      input_1[0][0]                    \n",
      "                                                                 input_2[0][0]                    \n",
      "__________________________________________________________________________________________________\n",
      "input_3 (InputLayer)            [(None, 5)]          0                                            \n",
      "__________________________________________________________________________________________________\n",
      "Discriminator (Model)           (None, 5)            212299      input_1[0][0]                    \n",
      "                                                                 Generator[1][0]                  \n",
      "                                                                 input_3[0][0]                    \n",
      "==================================================================================================\n",
      "Total params: 476,656\n",
      "Trainable params: 264,357\n",
      "Non-trainable params: 212,299\n",
      "__________________________________________________________________________________________________\n"
     ]
    }
   ],
   "source": [
    "def build_cgan(generator, discriminator, lr=2e-3):\n",
    "    tf.keras.backend.clear_session()\n",
    "    discriminator.trainable = False\n",
    "    imginp = Input((25,25,1))\n",
    "    #Gather ND mask like in generator\n",
    "    deltainp, mask = Input((2,),dtype=tf.int32), Input((5,))\n",
    "    outimg = generator([imginp, deltainp])\n",
    "    disc = discriminator([imginp, outimg, mask])\n",
    "    cgan = Model(inputs=[imginp,deltainp,mask], outputs=disc, name=\"cGAN\")\n",
    "    cgan.compile(loss=\"mean_squared_error\", optimizer=tf.keras.optimizers.Adam(lr=lr))\n",
    "    return cgan\n",
    "build_cgan(build_generator(), build_discriminator()).summary()"
   ]
  },
  {
   "cell_type": "code",
   "execution_count": 7,
   "metadata": {},
   "outputs": [],
   "source": [
    "dmodel = build_discriminator()\n",
    "gmodel = build_generator()\n",
    "cganmodel = build_cgan(gmodel, dmodel)"
   ]
  },
  {
   "cell_type": "markdown",
   "metadata": {},
   "source": [
    "<h2>SECTION 3: Training and Inference Infrastructure"
   ]
  },
  {
   "cell_type": "code",
   "execution_count": 19,
   "metadata": {},
   "outputs": [],
   "source": [
    "def generate_real_samples(inp, out, mask, size):\n",
    "    indices = np.random.choice(inp.shape[0], size=size, replace=False)\n",
    "    return inp[indices], out[indices], mask[indices], mask[indices]\n",
    "def generate_fake_samples(generator, decX, decmask):\n",
    "    gatherer = np.zeros((decX.shape[0],2),dtype=np.int32)\n",
    "    gatherer[:,0], gatherer[:,1]  = np.arange(decX.shape[0]), np.argmax(decmask,axis=-1)\n",
    "    pred = generator.predict_on_batch([decX, gatherer])\n",
    "    exp = np.zeros((decX.shape[0],5))\n",
    "    return pred, exp, gatherer"
   ]
  },
  {
   "cell_type": "code",
   "execution_count": 22,
   "metadata": {},
   "outputs": [],
   "source": [
    "def batch_trainer(cgan, generator, discriminator, X1, X2, Y, batch_size=256):\n",
    "    #Get a sample of real images from training set and train discriminator with 1\n",
    "    realX1, realY, realX2, realO = generate_real_samples(X1,Y,X2,np.int(batch_size/2))\n",
    "    drealloss = discriminator.train_on_batch([realX1, realY, realX2], realO)\n",
    "    #Get samples made from the generator and train discriminator with 0\n",
    "    genY, genO, deltagat = generate_fake_samples(generator, realX1, realX2)\n",
    "    dfakeloss = discriminator.train_on_batch([realX1, genY, realX2], genO)\n",
    "    #Train the generator with adverserial loss\n",
    "    gloss = cgan.train_on_batch([realX1, deltagat, realX2], realO)\n",
    "    return drealloss, dfakeloss, gloss"
   ]
  },
  {
   "cell_type": "code",
   "execution_count": 29,
   "metadata": {},
   "outputs": [
    {
     "name": "stdout",
     "output_type": "stream",
     "text": [
      "Checkpoint at Batch No.313 in 412.5566020011902 seconds\n",
      "Checkpoint at Batch No.625 in 823.4542481899261 seconds\n",
      "Checkpoint at Batch No.937 in 1246.6641552448273 seconds\n",
      "Checkpoint at Batch No.1250 in 1671.261595249176 seconds\n",
      "Checkpoint at Batch No.1563 in 2096.264731168747 seconds\n",
      "Checkpoint at Batch No.1875 in 2520.8907351493835 seconds\n",
      "Checkpoint at Batch No.2187 in 2945.4101951122284 seconds\n",
      "Checkpoint at Batch No.2500 in 3374.260817050934 seconds\n",
      "Checkpoint at Batch No.2813 in 3829.5495159626007 seconds\n",
      "Checkpoint at Batch No.3125 in 4280.610663175583 seconds\n"
     ]
    }
   ],
   "source": [
    "numepochs, batch_size = 20, 256\n",
    "start = time.time()\n",
    "numbatches = round((40000/batch_size)*numepochs)\n",
    "drealloss, dfakeloss, genloss = np.zeros(numbatches), np.zeros(numbatches), np.zeros(numbatches)\n",
    "checkpoints = np.vectorize(round)(np.arange(0, numbatches, numbatches/10)+numbatches/10-1)\n",
    "for i in range(numbatches):\n",
    "    d, f, g = batch_trainer(cganmodel, gmodel, dmodel, X1[:40000],X2[:40000],Y[:40000], batch_size)\n",
    "    drealloss[i], dfakeloss[i], genloss[i] = d, f, g\n",
    "    if (i in checkpoints):\n",
    "        print(\"Checkpoint at Batch No.\"+str(i+1)+\" in \"+str(time.time()-start)+\" seconds\")"
   ]
  },
  {
   "cell_type": "code",
   "execution_count": 30,
   "metadata": {},
   "outputs": [
    {
     "data": {
      "image/png": "[encoded data removed]",
      "text/plain": [
       "<Figure size 1080x288 with 2 Axes>"
      ]
     },
     "metadata": {
      "needs_background": "light"
     },
     "output_type": "display_data"
    }
   ],
   "source": [
    "plt.figure(figsize=(15,4))\n",
    "plt.subplot(1,2,1)\n",
    "plt.suptitle(\"Visualizing Effects of Adverserial Loss\")\n",
    "plt.title(\"Generator's Loss in Producing Real Transformations\")\n",
    "plt.xlabel(\"Batches\")\n",
    "plt.ylabel(\"Loss\")\n",
    "pd.Series(genloss).plot()\n",
    "plt.subplot(1,2,2)\n",
    "plt.title(\"Discriminator's Loss in Identifying Generated Images\")\n",
    "plt.xlabel(\"Batches\")\n",
    "plt.ylabel(\"Loss\")\n",
    "pd.Series(drealloss).plot(label=\"Loss on Real Images\", alpha=0.6)\n",
    "pd.Series(dfakeloss).plot(label=\"Loss on Generated Images\", alpha=0.6)\n",
    "plt.legend(loc=\"best\")\n",
    "plt.show()"
   ]
  },
  {
   "cell_type": "code",
   "execution_count": 43,
   "metadata": {},
   "outputs": [],
   "source": [
    "def get_inference(generator,X1,X2):\n",
    "    Y = np.zeros((X1.shape[0],25,25,1))\n",
    "    leftend = 0\n",
    "    while leftend<X1.shape[0]:\n",
    "        firstdata = X1[leftend:(leftend+256)]\n",
    "        seconddata = np.zeros((firstdata.shape[0],2), dtype=np.int32)\n",
    "        seconddata[:,0] = np.arange(firstdata.shape[0])\n",
    "        seconddata[:,1] = np.argmax(X2[leftend:(leftend+256)],axis=1)\n",
    "        Y[leftend:(leftend+256)] = generator.predict_on_batch([firstdata, seconddata])\n",
    "        leftend+=256\n",
    "    return Y"
   ]
  },
  {
   "cell_type": "code",
   "execution_count": null,
   "metadata": {},
   "outputs": [],
   "source": []
  },
  {
   "cell_type": "code",
   "execution_count": null,
   "metadata": {},
   "outputs": [],
   "source": []
  },
  {
   "cell_type": "code",
   "execution_count": null,
   "metadata": {},
   "outputs": [],
   "source": []
  }
 ],
 "metadata": {
  "kernelspec": {
   "display_name": "Python 3",
   "language": "python",
   "name": "python3"
  },
  "language_info": {
   "codemirror_mode": {
    "name": "ipython",
    "version": 3
   },
   "file_extension": ".py",
   "mimetype": "text/x-python",
   "name": "python",
   "nbconvert_exporter": "python",
   "pygments_lexer": "ipython3",
   "version": "3.6.8"
  }
 },
 "nbformat": 4,
 "nbformat_minor": 2
}

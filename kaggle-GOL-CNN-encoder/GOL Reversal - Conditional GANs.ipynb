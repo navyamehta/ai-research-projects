{
 "cells": [
  {
   "cell_type": "markdown",
   "metadata": {},
   "source": [
    "Check out Kaggle at https://www.kaggle.com/c/conways-reverse-game-of-life-2020. The objective is to reverse Conway's Game of Life Board (25x25 cells) to learn its position $\\delta$ steps ago ($1<=\\delta<=5$). We experiment with Convolvers, CNN Encoder-Decoders, and Generative Adverserial Networks, while evaluating performance on custom decaying losses (MSE/Brier, Entropy, Hinge) as well as ROC."
   ]
  },
  {
   "cell_type": "code",
   "execution_count": 1,
   "metadata": {},
   "outputs": [],
   "source": [
    "import pandas as pd\n",
    "import numpy as np\n",
    "import scipy as sp\n",
    "import collections\n",
    "import gc\n",
    "import pickle\n",
    "import time\n",
    "import matplotlib.pyplot as plt\n",
    "import matplotlib.patches as mpatches\n",
    "import seaborn as sns\n",
    "import tensorflow as tf\n",
    "import tensorflow.keras as keras\n",
    "from tensorflow.keras.layers import Conv2D, MaxPooling2D, Dense, Lambda, Flatten, Conv2DTranspose\n",
    "from tensorflow.keras.layers import Dropout, GaussianNoise, Input, UpSampling2D, Concatenate\n",
    "from tensorflow.keras.models import Model, Sequential, load_model\n",
    "import sklearn.model_selection\n",
    "from copy import deepcopy\n",
    "import sklearn.metrics"
   ]
  },
  {
   "cell_type": "markdown",
   "metadata": {},
   "source": [
    "<h2>Data Preprocessing</h2>"
   ]
  },
  {
   "cell_type": "code",
   "execution_count": 2,
   "metadata": {},
   "outputs": [
    {
     "name": "stdout",
     "output_type": "stream",
     "text": [
      "Preprocessing Exited in 8.559165239334106 seconds\n"
     ]
    },
    {
     "data": {
      "text/plain": [
       "((50000, 1252), (50000, 25, 25, 1), (50000, 3125), (50000, 3125))"
      ]
     },
     "execution_count": 2,
     "metadata": {},
     "output_type": "execute_result"
    }
   ],
   "source": [
    "start = time.time()\n",
    "data = pd.read_csv(\"./train.csv\")\n",
    "X1 = data[data.columns[np.vectorize(lambda s: \"stop\" in s)(data.columns.values)]]\n",
    "X1 = X1.values.reshape(data.shape[0],25,25,1)\n",
    "delta = data[\"delta\"].values\n",
    "X2 = np.zeros((data.shape[0],25*25*5))\n",
    "for i in range(data.shape[0]):\n",
    "    X2[i,(delta[i]-1)::5] = 1\n",
    "temp = data[data.columns[np.vectorize(lambda s: \"start\" in s)(data.columns.values)]].values\n",
    "Y = np.zeros((data.shape[0],25*25*5))\n",
    "for i in range(data.shape[0]):\n",
    "    Y[i,(delta[i]-1)::5] = temp[i]\n",
    "print(\"Preprocessing Exited in \"+str(time.time()-start)+\" seconds\")\n",
    "data.shape, X1.shape, X2.shape, Y.shape"
   ]
  },
  {
   "cell_type": "markdown",
   "metadata": {},
   "source": [
    "<h2> SECTION 1: Building the Discriminator"
   ]
  },
  {
   "cell_type": "code",
   "execution_count": null,
   "metadata": {},
   "outputs": [],
   "source": []
  }
 ],
 "metadata": {
  "kernelspec": {
   "display_name": "Python 3",
   "language": "python",
   "name": "python3"
  },
  "language_info": {
   "codemirror_mode": {
    "name": "ipython",
    "version": 3
   },
   "file_extension": ".py",
   "mimetype": "text/x-python",
   "name": "python",
   "nbconvert_exporter": "python",
   "pygments_lexer": "ipython3",
   "version": "3.6.8"
  }
 },
 "nbformat": 4,
 "nbformat_minor": 2
}

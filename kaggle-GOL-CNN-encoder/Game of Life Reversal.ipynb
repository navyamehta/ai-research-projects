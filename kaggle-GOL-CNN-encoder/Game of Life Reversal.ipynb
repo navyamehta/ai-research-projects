{
 "cells": [
  {
   "cell_type": "code",
   "execution_count": 71,
   "metadata": {},
   "outputs": [],
   "source": [
    "import pandas as pd\n",
    "import numpy as np\n",
    "import scipy as sp\n",
    "import collections\n",
    "import gc\n",
    "import pickle\n",
    "import time\n",
    "import matplotlib.pyplot as plt\n",
    "import matplotlib.patches as mpatches\n",
    "import seaborn as sns\n",
    "import tensorflow as tf\n",
    "import tensorflow.keras as keras\n",
    "from tensorflow.keras.layers import Conv2D, MaxPooling2D, Dense, Lambda, Flatten, Conv2DTranspose\n",
    "from tensorflow.keras.layers import Dropout, GaussianNoise, Input, UpSampling2D\n",
    "from tensorflow.keras.models import Model, Sequential, load_model\n",
    "import sklearn.model_selection"
   ]
  },
  {
   "cell_type": "markdown",
   "metadata": {},
   "source": [
    "<h2> Data Preprocessing </h2>"
   ]
  },
  {
   "cell_type": "code",
   "execution_count": 72,
   "metadata": {},
   "outputs": [
    {
     "name": "stdout",
     "output_type": "stream",
     "text": [
      "Preprocessing Exited in 8.937174081802368 seconds\n"
     ]
    },
    {
     "data": {
      "text/plain": [
       "((50000, 1252), (50000, 25, 25, 1), (50000, 3125), (50000, 3125))"
      ]
     },
     "execution_count": 72,
     "metadata": {},
     "output_type": "execute_result"
    }
   ],
   "source": [
    "start = time.time()\n",
    "data = pd.read_csv(\"./train.csv\")\n",
    "X1 = data[data.columns[np.vectorize(lambda s: \"start\" in s)(data.columns.values)]]\n",
    "X1 = X1.values.reshape(data.shape[0],25,25,1)\n",
    "delta = data[\"delta\"].values\n",
    "X2 = np.zeros((data.shape[0],25*25*5))\n",
    "for i in range(data.shape[0]):\n",
    "    X2[i,(delta[i]-1)::5] = 1\n",
    "temp = data[data.columns[np.vectorize(lambda s: \"stop\" in s)(data.columns.values)]].values\n",
    "Y = np.zeros((data.shape[0],25*25*5))\n",
    "for i in range(data.shape[0]):\n",
    "    Y[i,(delta[i]-1)::5] = temp[i]\n",
    "print(\"Preprocessing Exited in \"+str(time.time()-start)+\" seconds\")\n",
    "data.shape, X1.shape, X2.shape, Y.shape"
   ]
  },
  {
   "cell_type": "markdown",
   "metadata": {},
   "source": [
    "<h2>Approach 1: N-Step Convolver"
   ]
  },
  {
   "cell_type": "code",
   "execution_count": 98,
   "metadata": {},
   "outputs": [],
   "source": [
    "#posweight = (625-np.sum(Y,axis=1).mean())/np.sum(Y,axis=1).mean()\n",
    "#Pre-fed value to speed computation\n",
    "def weighted_mean_squared_error(ytrue, ypred, posweight=5.826105561517628):\n",
    "    diff = ytrue-ypred\n",
    "    poserr = tf.map_fn(lambda s: tf.reduce_sum(tf.math.square(s[s>0])), diff)*posweight\n",
    "    negerr = tf.map_fn(lambda s: tf.reduce_sum(tf.math.square(s[s<0])), diff)\n",
    "    return tf.reduce_mean(poserr)+tf.reduce_mean(negerr)"
   ]
  },
  {
   "cell_type": "code",
   "execution_count": 100,
   "metadata": {},
   "outputs": [
    {
     "name": "stdout",
     "output_type": "stream",
     "text": [
      "Model: \"model\"\n",
      "__________________________________________________________________________________________________\n",
      "Layer (type)                    Output Shape         Param #     Connected to                     \n",
      "==================================================================================================\n",
      "input_2 (InputLayer)            [(None, 25, 25, 1)]  0                                            \n",
      "__________________________________________________________________________________________________\n",
      "conv2d (Conv2D)                 (None, 25, 25, 32)   1600        input_2[0][0]                    \n",
      "__________________________________________________________________________________________________\n",
      "max_pooling2d (MaxPooling2D)    (None, 25, 25, 32)   0           conv2d[0][0]                     \n",
      "__________________________________________________________________________________________________\n",
      "conv2d_1 (Conv2D)               (None, 25, 25, 64)   100416      max_pooling2d[0][0]              \n",
      "__________________________________________________________________________________________________\n",
      "max_pooling2d_1 (MaxPooling2D)  (None, 25, 25, 64)   0           conv2d_1[0][0]                   \n",
      "__________________________________________________________________________________________________\n",
      "conv2d_2 (Conv2D)               (None, 25, 25, 32)   100384      max_pooling2d_1[0][0]            \n",
      "__________________________________________________________________________________________________\n",
      "max_pooling2d_2 (MaxPooling2D)  (None, 25, 25, 32)   0           conv2d_2[0][0]                   \n",
      "__________________________________________________________________________________________________\n",
      "conv2d_3 (Conv2D)               (None, 25, 25, 5)    7845        max_pooling2d_2[0][0]            \n",
      "__________________________________________________________________________________________________\n",
      "flatten (Flatten)               (None, 3125)         0           conv2d_3[0][0]                   \n",
      "__________________________________________________________________________________________________\n",
      "activation (Activation)         (None, 3125)         0           flatten[0][0]                    \n",
      "__________________________________________________________________________________________________\n",
      "input_1 (InputLayer)            [(None, 3125)]       0                                            \n",
      "__________________________________________________________________________________________________\n",
      "tf_op_layer_Mul (TensorFlowOpLa [(None, 3125)]       0           activation[0][0]                 \n",
      "                                                                 input_1[0][0]                    \n",
      "__________________________________________________________________________________________________\n",
      "flatten_1 (Flatten)             (None, 3125)         0           tf_op_layer_Mul[0][0]            \n",
      "==================================================================================================\n",
      "Total params: 210,245\n",
      "Trainable params: 210,245\n",
      "Non-trainable params: 0\n",
      "__________________________________________________________________________________________________\n"
     ]
    }
   ],
   "source": [
    "tf.keras.backend.clear_session()\n",
    "deltainp = Input((25*25*5), dtype=tf.float32) #Delta Mask\n",
    "gofinp = Input((25,25,1)) #Game of Life Board\n",
    "#Increasing Filters to Capture Relationships\n",
    "conv1 = Conv2D(filters=32, kernel_size=(7,7), strides=(1,1), padding=\"same\", activation=\"relu\")(gofinp)\n",
    "max1 = MaxPooling2D(pool_size=(2,2), strides=(1,1), padding=\"same\")(conv1)\n",
    "conv2 = Conv2D(filters=64, kernel_size=(7,7), strides=(1,1), padding=\"same\", activation=\"relu\")(max1)\n",
    "max2 = MaxPooling2D(pool_size=(2,2), strides=(1,1), padding=\"same\")(conv2)\n",
    "#Reducing Filters to Final Output\n",
    "conv3 = Conv2D(filters=32, kernel_size=(7,7), strides=(1,1), padding=\"same\", activation=\"relu\")(max2)\n",
    "max3 = MaxPooling2D(pool_size=(2,2), strides=(1,1), padding=\"same\")(conv3)\n",
    "final = Conv2D(filters=5, kernel_size=(7,7), strides=(1,1), padding=\"same\", activation=None)(max3)\n",
    "#Evaluate Required Board\n",
    "final = tf.keras.layers.Activation(activation=\"sigmoid\")(Flatten()(final))\n",
    "final = Flatten()(tf.math.multiply(final, deltainp))\n",
    "model = Model(inputs=[gofinp, deltainp], outputs=final)\n",
    "model.compile(optimizer=tf.keras.optimizers.Adam(learning_rate=2e-3), loss=weighted_mean_squared_error)\n",
    "model.summary()"
   ]
  },
  {
   "cell_type": "code",
   "execution_count": 104,
   "metadata": {},
   "outputs": [
    {
     "name": "stdout",
     "output_type": "stream",
     "text": [
      "Train on 40000 samples\n",
      "40000/40000 [==============================] - 223s 6ms/sample - loss: 186.0795\n"
     ]
    }
   ],
   "source": [
    "hist = model.fit([X1[:40000],X2[:40000]],Y[:40000], batch_size=256, epochs=1)\n",
    "pd.Series(hist.history[\"loss\"]).plot()\n",
    "model.save(\"./40000example.h5\")"
   ]
  },
  {
   "cell_type": "markdown",
   "metadata": {},
   "source": [
    "<h2> Approach 2: CNN-Encoder-Decoder </h2>"
   ]
  },
  {
   "cell_type": "code",
   "execution_count": 153,
   "metadata": {},
   "outputs": [
    {
     "name": "stdout",
     "output_type": "stream",
     "text": [
      "Model: \"model\"\n",
      "__________________________________________________________________________________________________\n",
      "Layer (type)                    Output Shape         Param #     Connected to                     \n",
      "==================================================================================================\n",
      "input_2 (InputLayer)            [(None, 25, 25, 1)]  0                                            \n",
      "__________________________________________________________________________________________________\n",
      "conv2d (Conv2D)                 (None, 25, 25, 32)   832         input_2[0][0]                    \n",
      "__________________________________________________________________________________________________\n",
      "max_pooling2d (MaxPooling2D)    (None, 12, 12, 32)   0           conv2d[0][0]                     \n",
      "__________________________________________________________________________________________________\n",
      "conv2d_1 (Conv2D)               (None, 12, 12, 64)   51264       max_pooling2d[0][0]              \n",
      "__________________________________________________________________________________________________\n",
      "max_pooling2d_1 (MaxPooling2D)  (None, 6, 6, 64)     0           conv2d_1[0][0]                   \n",
      "__________________________________________________________________________________________________\n",
      "dropout (Dropout)               (None, 6, 6, 64)     0           max_pooling2d_1[0][0]            \n",
      "__________________________________________________________________________________________________\n",
      "conv2d_2 (Conv2D)               (None, 6, 6, 128)    204928      dropout[0][0]                    \n",
      "__________________________________________________________________________________________________\n",
      "max_pooling2d_2 (MaxPooling2D)  (None, 3, 3, 128)    0           conv2d_2[0][0]                   \n",
      "__________________________________________________________________________________________________\n",
      "up_sampling2d (UpSampling2D)    (None, 6, 6, 128)    0           max_pooling2d_2[0][0]            \n",
      "__________________________________________________________________________________________________\n",
      "conv2d_transpose (Conv2DTranspo (None, 6, 6, 64)     204864      up_sampling2d[0][0]              \n",
      "__________________________________________________________________________________________________\n",
      "up_sampling2d_1 (UpSampling2D)  (None, 12, 12, 64)   0           conv2d_transpose[0][0]           \n",
      "__________________________________________________________________________________________________\n",
      "conv2d_transpose_1 (Conv2DTrans (None, 12, 12, 32)   51232       up_sampling2d_1[0][0]            \n",
      "__________________________________________________________________________________________________\n",
      "up_sampling2d_2 (UpSampling2D)  (None, 24, 24, 32)   0           conv2d_transpose_1[0][0]         \n",
      "__________________________________________________________________________________________________\n",
      "conv2d_transpose_2 (Conv2DTrans (None, 25, 25, 5)    645         up_sampling2d_2[0][0]            \n",
      "__________________________________________________________________________________________________\n",
      "input_1 (InputLayer)            [(None, 25, 25, 5)]  0                                            \n",
      "__________________________________________________________________________________________________\n",
      "tf_op_layer_Mul (TensorFlowOpLa [(None, 25, 25, 5)]  0           conv2d_transpose_2[0][0]         \n",
      "                                                                 input_1[0][0]                    \n",
      "__________________________________________________________________________________________________\n",
      "flatten (Flatten)               (None, 3125)         0           tf_op_layer_Mul[0][0]            \n",
      "==================================================================================================\n",
      "Total params: 513,765\n",
      "Trainable params: 513,765\n",
      "Non-trainable params: 0\n",
      "__________________________________________________________________________________________________\n"
     ]
    }
   ],
   "source": [
    "tf.keras.backend.clear_session()\n",
    "deltainp = Input((25,25,5), dtype=tf.float32) #Delta Mask\n",
    "gofinp = Input((25,25,1)) #Game of Life Board\n",
    "conv1 = Conv2D(filters=32, kernel_size=(5,5), strides=(1,1), padding=\"same\", activation=\"relu\")(gofinp)\n",
    "max1 = MaxPooling2D(pool_size=(2,2), strides=(2,2), padding=\"valid\")(conv1)\n",
    "conv2 = Conv2D(filters=64, kernel_size=(5,5), strides=(1,1), padding=\"same\", activation=\"relu\")(max1)\n",
    "max2 = MaxPooling2D(pool_size=(2,2), strides=(2,2), padding=\"valid\")(conv2)\n",
    "drp2 = Dropout(0.1)(max2)\n",
    "conv3 = Conv2D(filters=128, kernel_size=(5,5), strides=(1,1), padding=\"same\", activation=\"elu\")(drp2)\n",
    "max3 = MaxPooling2D(pool_size=(2,2), strides=(2,2), padding=\"valid\")(conv3)\n",
    "up1 = UpSampling2D(size=(2,2), interpolation=\"nearest\")(max3)\n",
    "dec1 = Conv2DTranspose(filters=64, strides=(1,1), kernel_size=(5,5), padding=\"same\", activation=\"elu\")(up1)\n",
    "up2 = UpSampling2D(size=(2,2), interpolation=\"nearest\")(dec1)\n",
    "dec2 = Conv2DTranspose(filters=32, strides=(1,1), kernel_size=(5,5), padding=\"same\", activation=\"relu\")(up2)\n",
    "up3 = UpSampling2D(size=(2,2), interpolation=\"nearest\")(dec2)\n",
    "dec3 = Conv2DTranspose(filters=5, strides=(1,1), kernel_size=(2,2), activation=\"sigmoid\")(up3)\n",
    "final = Flatten()(tf.math.multiply(dec3, deltainp))\n",
    "model = Model(inputs=[gofinp, deltainp], outputs=final)\n",
    "model.compile(optimizer=tf.keras.optimizers.Adam(learning_rate=1e-2), loss=\"mean_absolute_error\")\n",
    "model.summary()"
   ]
  },
  {
   "cell_type": "markdown",
   "metadata": {},
   "source": [
    "<h2> Approach 3: Stacked Encoder with Data Augmentation"
   ]
  },
  {
   "cell_type": "code",
   "execution_count": null,
   "metadata": {},
   "outputs": [],
   "source": []
  }
 ],
 "metadata": {
  "kernelspec": {
   "display_name": "Python 3",
   "language": "python",
   "name": "python3"
  },
  "language_info": {
   "codemirror_mode": {
    "name": "ipython",
    "version": 3
   },
   "file_extension": ".py",
   "mimetype": "text/x-python",
   "name": "python",
   "nbconvert_exporter": "python",
   "pygments_lexer": "ipython3",
   "version": "3.6.8"
  }
 },
 "nbformat": 4,
 "nbformat_minor": 2
}
